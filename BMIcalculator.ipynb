{
 "cells": [
  {
   "cell_type": "code",
   "execution_count": 3,
   "id": "ac326d6f-ae60-4498-8c0d-edd0cc5efdf7",
   "metadata": {},
   "outputs": [],
   "source": [
    "#BMI = (weight * 703) / (height * height)"
   ]
  },
  {
   "cell_type": "code",
   "execution_count": 1,
   "id": "d37f2a69-4c76-46ed-b3d6-dc5b04d4504b",
   "metadata": {},
   "outputs": [
    {
     "name": "stdin",
     "output_type": "stream",
     "text": [
      "Enter your name:  Peter\n",
      "Enter your weight in pounds:  70\n",
      "Enter your height in inches:  60\n"
     ]
    },
    {
     "name": "stdout",
     "output_type": "stream",
     "text": [
      "Peter, Your BMI is  13.669444444444444\n",
      "Peter you are underweight\n"
     ]
    }
   ],
   "source": [
    "name = input(\"Enter your name: \")\n",
    "weight = int(input(\"Enter your weight in pounds: \"))\n",
    "height = int(input(\"Enter your height in inches: \"))\n",
    "BMI = (weight * 703) / (height * height)\n",
    "print(name+\", Your BMI is \",BMI)\n",
    "\n",
    "if BMI>0:\n",
    "    if(BMI<18.5):\n",
    "        print(name +\" you are underweight\")\n",
    "    elif(BMI>18.5 and BMI<=24.9  ):\n",
    "        print(name +\" you are normal weight\")\n",
    "    elif(BMI>25 and BMI<=29.9):\n",
    "        print(name +\" you are overweight\")\n",
    "    elif(BMI>30 and BMI<34.9):\n",
    "        print(name +\" Your are obese\")\n",
    "    elif(BMI>35 and BMI<39.9):\n",
    "        print(name +\" Your are severely obese\")\n",
    "    else:\n",
    "        print(name +\" you are morbidly obese\")\n",
    "else:\n",
    "    print(\"Enter a valid input\")\n"
   ]
  },
  {
   "cell_type": "raw",
   "id": "4f872dd3-8723-486d-ba0e-c18c80eabc18",
   "metadata": {},
   "source": [
    "Under 18.5\tUnderweight\tMinimal\n",
    "18.5 - 24.9\tNormal Weight\tMinimal\n",
    "25 - 29.9\tOverweight\tIncreased\n",
    "30 - 34.9\tObese\tHigh\n",
    "35 - 39.9\tSeverely Obese\tVery High\n",
    "40 and over\tMorbidly Obese\tExtremely High"
   ]
  },
  {
   "cell_type": "code",
   "execution_count": 4,
   "id": "121bfc1a-0cbe-48f1-a912-f03c5f08d36f",
   "metadata": {},
   "outputs": [],
   "source": [
    "# PLEASE iGNORE\n",
    "# if BMI>0:\n",
    "#     if(BMI<18.5):\n",
    "#         print(name,\"you are underweight\")\n",
    "#      elif(BMI<24.9):\n",
    "#         print(\"you are normal weight\")\n",
    "#      elif(BMI29.9):\n",
    "#         print(\"you are overweight\")\n",
    "#      elif(BMI<34.9):\n",
    "#         print(\"Your are obese\")\n",
    "#      elif(BMI<39.9):\n",
    "#         print(\"Your are severely obese\")\n",
    "#     else:\n",
    "#         print(\"you are morbidly obese.\")\n",
    "# else:\n",
    "#     print(\"Enter a valid input\")\n",
    "        "
   ]
  },
  {
   "cell_type": "code",
   "execution_count": null,
   "id": "ada149ef-33dd-48c3-a481-b2638d364085",
   "metadata": {},
   "outputs": [],
   "source": []
  }
 ],
 "metadata": {
  "kernelspec": {
   "display_name": "Python 3 (ipykernel)",
   "language": "python",
   "name": "python3"
  },
  "language_info": {
   "codemirror_mode": {
    "name": "ipython",
    "version": 3
   },
   "file_extension": ".py",
   "mimetype": "text/x-python",
   "name": "python",
   "nbconvert_exporter": "python",
   "pygments_lexer": "ipython3",
   "version": "3.11.7"
  }
 },
 "nbformat": 4,
 "nbformat_minor": 5
}
